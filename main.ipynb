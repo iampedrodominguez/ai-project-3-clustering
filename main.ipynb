{
 "cells": [
  {
   "cell_type": "markdown",
   "metadata": {},
   "source": [
    "# Proyecto #3: Clustering - Inteligencia artificial"
   ]
  },
  {
   "cell_type": "markdown",
   "metadata": {},
   "source": [
    "## Integrantes\n",
    "\n",
    "- Pedro Domínguez\n",
    "- Luis Chahua\n",
    "- Carlos Guerrero"
   ]
  },
  {
   "cell_type": "markdown",
   "metadata": {},
   "source": [
    "## Librerías"
   ]
  },
  {
   "cell_type": "code",
   "execution_count": 1,
   "metadata": {},
   "outputs": [],
   "source": [
    "import pandas as pd\n",
    "import numpy as np\n",
    "import os\n",
    "\n",
    "#Librerías que permitirá reducir dimensiones\n",
    "import pywt\n",
    "import pywt.data\n",
    "\n",
    "#Librerías para lectura/edición de imágenes\n",
    "from skimage.io import imread, imshow\n",
    "from skimage.transform import resize\n",
    "from skimage.color import rgb2gray\n",
    "\n",
    "#Librerías para generar gráficas\n",
    "import matplotlib.pyplot as plt\n",
    "from tabulate import tabulate\n",
    "\n",
    "#Librerías de modelos de clasificación\n",
    "from sklearn import datasets\n",
    "from sklearn.model_selection import train_test_split\n",
    "from sklearn import svm\n",
    "from sklearn import tree\n",
    "from sklearn.decomposition import PCA\n",
    "from sklearn.discriminant_analysis import LinearDiscriminantAnalysis\n",
    "from sklearn.neighbors import KNeighborsClassifier, NeighborhoodComponentsAnalysis\n",
    "from sklearn.pipeline import make_pipeline\n",
    "from sklearn.preprocessing import StandardScaler\n",
    "from sklearn.model_selection import cross_val_score, KFold # k fold cross validation\n",
    "from sklearn import metrics # k fold cross validation\n",
    "from sklearn.metrics import recall_score, average_precision_score, roc_auc_score, f1_score, precision_score"
   ]
  },
  {
   "cell_type": "markdown",
   "metadata": {},
   "source": [
    "## Lectura de datos"
   ]
  },
  {
   "cell_type": "code",
   "execution_count": null,
   "metadata": {},
   "outputs": [],
   "source": [
    "train_txt_path = \"../data/sign_mnist_train.csv\"\n",
    "\n",
    "df_train = pd.read_csv(train_txt_path)\n",
    "df_train_x = df_train.loc[:, \"pixel1\":\"pixel784\"]\n",
    "df_train_y = df_train.label\n",
    "\n",
    "df_train = df_train.to_numpy()\n",
    "\n",
    "test_txt_path = \"../data/sign_mnist_test.csv\"\n",
    "\n",
    "df_test = pd.read_csv(test_txt_path)\n",
    "df_test_x = df_test.loc[:, \"pixel1\":\"pixel784\"]\n",
    "df_test_y = df_test.label\n",
    "\n",
    "df_test = df_test.to_numpy()"
   ]
  }
 ],
 "metadata": {
  "kernelspec": {
   "display_name": "Python 3.9.2 ('venv': venv)",
   "language": "python",
   "name": "python3"
  },
  "language_info": {
   "codemirror_mode": {
    "name": "ipython",
    "version": 3
   },
   "file_extension": ".py",
   "mimetype": "text/x-python",
   "name": "python",
   "nbconvert_exporter": "python",
   "pygments_lexer": "ipython3",
   "version": "3.9.2"
  },
  "orig_nbformat": 4,
  "vscode": {
   "interpreter": {
    "hash": "143df8e4504a9aace0d273e255be6c24cd322544643e856b95b0b18fe00a10bd"
   }
  }
 },
 "nbformat": 4,
 "nbformat_minor": 2
}
